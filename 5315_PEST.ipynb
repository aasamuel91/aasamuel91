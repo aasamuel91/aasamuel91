{
 "cells": [
  {
   "cell_type": "markdown",
   "metadata": {},
   "source": [
    "# 5315 - PEST Modelo de Coposa\n",
    "\n",
    "A través de este Jupyter se armará la interfaz de PEST para calibrar el modelo de Coposa:\n",
    "\n",
    "- Generación de archivos de niveles y sulfato para usar en la calibración.\n",
    "- Generación de archivos de caudales para usar en la calibración.\n",
    "\n"
   ]
  },
  {
   "cell_type": "code",
   "execution_count": 1,
   "metadata": {},
   "outputs": [
    {
     "name": "stdout",
     "output_type": "stream",
     "text": [
      "flopy is installed in C:\\ProgramData\\Anaconda3\\lib\\site-packages\\flopy\n"
     ]
    }
   ],
   "source": [
    "%matplotlib inline\n",
    "import os\n",
    "import shutil\n",
    "import platform\n",
    "import numpy as np\n",
    "import pandas as pd\n",
    "from matplotlib.patches import Rectangle as rect\n",
    "import matplotlib.pyplot as plt\n",
    "import warnings\n",
    "warnings.filterwarnings(\"ignore\", \n",
    "    message=\"ModflowDis.sr is deprecated. use Modflow.sr\")\n",
    "from mpl_toolkits.axes_grid1 import make_axes_locatable\n",
    "import matplotlib as mpl\n",
    "newparams = {'legend.fontsize':10, 'axes.labelsize':10,\n",
    "             'xtick.labelsize':10, 'ytick.labelsize':10,\n",
    "             'font.family':'Univers 57 Condensed', \n",
    "             'pdf.fonttype':42}\n",
    "plt.rcParams.update(newparams)\n",
    "import pyemu\n",
    "\n",
    "from TargetsModule import *\n",
    "from PEST_ACL import *\n",
    "from readAnyCsv import *\n",
    "\n",
    "import flopy"
   ]
  },
  {
   "cell_type": "markdown",
   "metadata": {},
   "source": [
    "# Generales"
   ]
  },
  {
   "cell_type": "markdown",
   "metadata": {},
   "source": [
    "Algunas definiciones generales que se usarán a lo largo del notebook."
   ]
  },
  {
   "cell_type": "code",
   "execution_count": 4,
   "metadata": {},
   "outputs": [],
   "source": [
    "# Ruta donde se realizará el pesteo\n",
    "ruta_pesteo='50 Pesteo\\\\'\n",
    "# Root file name\n",
    "pack_name='5315_Calibracion'\n",
    "# Periodos del modelo\n",
    "sp_totales=277\n",
    "# Nodos del modelo\n",
    "number_of_nodes = 199395\n",
    "# Fecha y hora inicial del modelo\n",
    "fecha_ini='30/12/1997'\n",
    "hora_ini='00:00:00'"
   ]
  },
  {
   "cell_type": "markdown",
   "metadata": {},
   "source": [
    "# Targets"
   ]
  },
  {
   "cell_type": "markdown",
   "metadata": {},
   "source": [
    "En esta sección se busca crear todo lo relacionado a los targets de niveles (y/o sulfato) que necesita PEST para calibrar. Se crean usando la función heads2all del módulo TargetsModule que recibe como inputs los mismos archivos con que se incorporan targets a GWV (info y serie transiente), el root file name de los paquetes, una fecha y hora inicial, y la carpeta donde se realizará el proceso de calibración.\n",
    "\n",
    "Finalemte los archivos que se generan son:\n",
    "\n",
    "- Archivo de niveles observados (niveles.smp) que toma el usgmod2obs.\n",
    "- Archivos necesarios para situar los niveles en la grilla (coord.dat y interp.dat).\n",
    "- Instrucción del programa usgmod2obs para generar los niveles simulados en el modelo.\n",
    "- Instrucción de PEST para extraer los niveles simualdos generados a través de usgmod2obs. "
   ]
  },
  {
   "cell_type": "code",
   "execution_count": 3,
   "metadata": {},
   "outputs": [],
   "source": [
    "ruta_targets='01 Targets\\\\'\n",
    "\n",
    "# Archivos que conforman los targets. Mismos que a GWV.\n",
    "info=pd.read_csv(ruta_targets+'00_info_niveles.csv',',')\n",
    "transiente=pd.read_csv(ruta_targets+'01_serie_niveles.csv',',')\n",
    "\n",
    "prefijo_heads='h'\n",
    "mod2obs_in='to_mod2obs.in'\n",
    "sim_smp_file='niveles_sim.smp'\n",
    "pest_ins='niveles_sim.ins'\n",
    "\n",
    "heads2all(info,transiente,pack_name,fecha_ini,hora_ini,ruta_pesteo,prefijo_heads,mod2obs_in,sim_smp_file,pest_ins)"
   ]
  },
  {
   "cell_type": "markdown",
   "metadata": {},
   "source": [
    "# Caudales de extracción"
   ]
  },
  {
   "cell_type": "markdown",
   "metadata": {},
   "source": [
    "En esta sección se busca crear los archivos necesarios para incluir los caudales de extracción de aguas en el proceso de calibración. En este caso los pozos de bombeo son representados a través del paquete CLN y WEL.\n",
    "En este caso se buscará calibrar el caudal de todos los pozos. \n",
    "Esta rutina sirve para cualquier paquete CLN que contenga exclusivamente pozos de bombeo (generalizada).\n",
    "La instrucción que usa PEST se genera usando la función flow_wel2ins del módulo TargetsModule"
   ]
  },
  {
   "cell_type": "code",
   "execution_count": 4,
   "metadata": {},
   "outputs": [],
   "source": [
    "ruta_bombeo='02 Bombeo\\\\'\n",
    "\n",
    "#Archivo zone para usgbud2smp\n",
    "zone_file = 'zone_cln.zone'\n",
    "\n",
    "data_file = ruta_bombeo+'5315_Calibracion.cln'\n",
    "data_file_delimiter = ' '\n",
    "# Acá leemos el paquete CLN como un csv\n",
    "df=readAnyCsv(data_file,data_file_delimiter)\n",
    "\n",
    "# Acá obtenemos la cantidad de nodos y elementos CLN que contiene el paquete\n",
    "number_of_elements = int(df[1][0])\n",
    "number_of_nodes_cln = int(df[2][0])*-1\n",
    "lines_from_internal = round(number_of_elements/10+0.5)\n",
    "\n",
    "# Acá generamos el zone pozo por pozo\n",
    "zone_cln = df[lines_from_internal+2:2+lines_from_internal+number_of_nodes][2]\n",
    "# Finalmente generamos el archivo zone\n",
    "zone_cln.to_csv(ruta_pesteo+zone_file,header=None, index=None, sep='\\t')\n",
    "\n",
    "# Ahora se lee el well info generado por GWV, para generar las respuestas que van a usgbud2smp\n",
    "well_info_file='well-info.csv'\n",
    "well_info=pd.read_csv(ruta_bombeo+well_info_file,',')\n",
    "\n",
    "# Nombre del archivo que le dará respuestas al usgbud2smp\n",
    "to_bud2smp_cln_file = 'to_bud2smp_cln.in'\n",
    "# Archivo con caudales simulados\n",
    "cln_sim_file = 'cln_sim.smp'\n",
    "\n",
    "# Generamos las respuestas que van al usgbud2smp\n",
    "answers_cln=[pack_name+'.cbcln',\n",
    "                sp_totales,\n",
    "                'gwf',\n",
    "                fecha_ini,\n",
    "                hora_ini,\n",
    "                'd',\n",
    "                number_of_nodes_cln,\n",
    "                zone_file,\n",
    "                'l',\n",
    "                '1']\n",
    "with open(ruta_pesteo+to_bud2smp_cln_file, 'w') as f:\n",
    "    for item in answers_cln:\n",
    "        f.write(\"%s\\n\" % item)\n",
    "    for item in well_info['Name']:\n",
    "        f.write(\"%s\\n\" % item)\n",
    "    f.write(cln_sim_file)\n",
    "    f.write('\\n1')\n",
    "    f.write('\\nf')\n",
    "    f.write('\\nnul')\n",
    "\n",
    "# Creamos la instrucción de PEST usando el TargetsModule\n",
    "well_export_file='well_export.csv'\n",
    "cln_ins_file = 'cln_sim.ins'\n",
    "prefijo_wells='w'\n",
    "\n",
    "wellcln2ins(ruta_bombeo,well_export_file,cln_ins_file,ruta_pesteo,prefijo_wells)"
   ]
  },
  {
   "cell_type": "markdown",
   "metadata": {},
   "source": [
    "# Vertiente Jachucoposa"
   ]
  },
  {
   "cell_type": "markdown",
   "metadata": {},
   "source": [
    "En esta sección se incorporarán a la interfaz de PEST los flujos observados de la vertiente Jachucoposa. Se construirán todos los elementos que necesita PEST para utilizar estos flujos como targets. Los datos de la vertiente fueron entregados en formato csv."
   ]
  },
  {
   "cell_type": "code",
   "execution_count": 11,
   "metadata": {},
   "outputs": [],
   "source": [
    "ruta_vertiente = '03 Vertiente\\\\'\n",
    "\n",
    "identificador = 'drains'\n",
    "transiente = pd.read_csv(ruta_vertiente+'5315_CaudalNaturalMedidoJachucoposa.csv',',')\n",
    "prefijo_flux='j'\n",
    "zone_file= 'drains.zone'\n",
    "zones= ['jachu']\n",
    "to_bud2smp_file='to_bud2smp_drn.in'\n",
    "sim_smp_file='drn_sim.smp'\n",
    "pest_ins='drn_sim.ins'\n",
    "\n",
    "flux2all(identificador,transiente,pack_name,fecha_ini,hora_ini,ruta_pesteo,prefijo_flux,\n",
    "             sp_totales,number_of_nodes,zone_file,zones,to_bud2smp_file,sim_smp_file,pest_ins)"
   ]
  },
  {
   "cell_type": "markdown",
   "metadata": {},
   "source": [
    "# Evaporación"
   ]
  },
  {
   "cell_type": "markdown",
   "metadata": {},
   "source": [
    "En esta sección se incorporará a la interfaz de PEST el flujo de evaporación. Se utilizará la misma función flux2all que en la sección anterior. "
   ]
  },
  {
   "cell_type": "code",
   "execution_count": 13,
   "metadata": {},
   "outputs": [],
   "source": [
    "ruta_evaporacion = '04 Evaporacion\\\\'\n",
    "\n",
    "identificador = 'et'\n",
    "transiente = pd.read_csv(ruta_evaporacion+'5315_target_evaporacion.csv',',')\n",
    "prefijo_flux='e'\n",
    "zone_file= 'ets.zone'\n",
    "zones= ['ets']\n",
    "to_bud2smp_file='to_bud2smp_ets.in'\n",
    "sim_smp_file='ets_sim.smp'\n",
    "pest_ins='ets_sim.ins'\n",
    "\n",
    "flux2all(identificador,transiente,pack_name,fecha_ini,hora_ini,ruta_pesteo,prefijo_flux,\n",
    "             sp_totales,number_of_nodes,zone_file,zones,to_bud2smp_file,sim_smp_file,pest_ins)"
   ]
  },
  {
   "cell_type": "markdown",
   "metadata": {},
   "source": [
    "# Flujos pasantes"
   ]
  },
  {
   "cell_type": "markdown",
   "metadata": {},
   "source": [
    "En esta sección se incorporarán los flujos pasantes a la interfaz de PEST."
   ]
  },
  {
   "cell_type": "code",
   "execution_count": 3,
   "metadata": {},
   "outputs": [],
   "source": [
    "# Primero creamos el input de zonbud\n",
    "csv_file = 'zb_flujos_pasantes'\n",
    "zone_file = 'flujos_pasantes.zone'\n",
    "to_zb_file = 'to_zb_flujos.in'\n",
    "\n",
    "inputzb(csv_file,pack_name,zone_file,ruta_pesteo,to_zb_file)\n",
    "\n",
    "# Luego creamos el obs2obs\n"
   ]
  },
  {
   "cell_type": "markdown",
   "metadata": {},
   "source": [
    "# Creación del PST"
   ]
  },
  {
   "cell_type": "markdown",
   "metadata": {},
   "source": [
    "A continuación se construirá el pst usando PyEmu"
   ]
  },
  {
   "cell_type": "markdown",
   "metadata": {},
   "source": [
    "Búsqueda de archivos TPL"
   ]
  },
  {
   "cell_type": "code",
   "execution_count": 5,
   "metadata": {},
   "outputs": [
    {
     "data": {
      "text/plain": [
       "[]"
      ]
     },
     "execution_count": 5,
     "metadata": {},
     "output_type": "execute_result"
    }
   ],
   "source": [
    "tpl_files = [os.path.join(ruta_pesteo,f) for f in os.listdir(ruta_pesteo) if f.endswith(\".tpl\")]\n",
    "input_files = [f.replace(\".tpl\",'') for f in tpl_files]\n",
    "tpl_files"
   ]
  },
  {
   "cell_type": "markdown",
   "metadata": {},
   "source": [
    "Búsqueda de archivos INS"
   ]
  },
  {
   "cell_type": "code",
   "execution_count": 6,
   "metadata": {},
   "outputs": [
    {
     "data": {
      "text/plain": [
       "['50 Pesteo\\\\cln_sim.smp', '50 Pesteo\\\\niveles_sim.smp']"
      ]
     },
     "execution_count": 6,
     "metadata": {},
     "output_type": "execute_result"
    }
   ],
   "source": [
    "ins_files = [os.path.join(ruta_pesteo,f) for f in os.listdir(ruta_pesteo) if f.endswith(\".ins\")]\n",
    "output_files = [f.replace(\".ins\",'.smp') for f in ins_files]\n",
    "ins_files\n",
    "output_files"
   ]
  },
  {
   "cell_type": "code",
   "execution_count": 7,
   "metadata": {
    "scrolled": true
   },
   "outputs": [
    {
     "name": "stderr",
     "output_type": "stream",
     "text": [
      "C:\\ProgramData\\Anaconda3\\lib\\site-packages\\pyemu\\pst\\pst_utils.py:615: UserWarning: error processing instruction file 50 Pesteo\\cln_sim.ins, trying inschek: InstructionFile error processing output file on line number 122: unrecognized instruction '[w_ppc-02_1]38:50' on ins file line 2\n",
      "  warnings.warn(\"error processing instruction file {0}, trying inschek: {1}\".format(ins_file,str(e)))\n",
      "C:\\ProgramData\\Anaconda3\\lib\\site-packages\\pyemu\\pst\\pst_utils.py:615: UserWarning: error processing instruction file 50 Pesteo\\niveles_sim.ins, trying inschek: output file '50 Pesteo\\niveles_sim.smp' not found\n",
      "  warnings.warn(\"error processing instruction file {0}, trying inschek: {1}\".format(ins_file,str(e)))\n"
     ]
    },
    {
     "name": "stdout",
     "output_type": "stream",
     "text": [
      "error using inschek for instruction file 50 Pesteo\\cln_sim.ins:run() returned non-zero: 1\n",
      "observations in this instruction file will havegeneric values.\n",
      "error using inschek for instruction file 50 Pesteo\\niveles_sim.ins:run() returned non-zero: 1\n",
      "observations in this instruction file will havegeneric values.\n"
     ]
    }
   ],
   "source": [
    "pst = pyemu.Pst.from_io_files(tpl_files,input_files,ins_files,output_files)"
   ]
  },
  {
   "cell_type": "code",
   "execution_count": 8,
   "metadata": {},
   "outputs": [
    {
     "name": "stdout",
     "output_type": "stream",
     "text": [
      "noptmax:30, npar_adj:0, nnz_obs:41999\n"
     ]
    }
   ],
   "source": [
    "pst.write(ruta_pesteo+\"5315_CAL.pst\")"
   ]
  }
 ],
 "metadata": {
  "anaconda-cloud": {},
  "kernelspec": {
   "display_name": "Python 3",
   "language": "python",
   "name": "python3"
  },
  "language_info": {
   "codemirror_mode": {
    "name": "ipython",
    "version": 3
   },
   "file_extension": ".py",
   "mimetype": "text/x-python",
   "name": "python",
   "nbconvert_exporter": "python",
   "pygments_lexer": "ipython3",
   "version": "3.7.6"
  }
 },
 "nbformat": 4,
 "nbformat_minor": 1
}
